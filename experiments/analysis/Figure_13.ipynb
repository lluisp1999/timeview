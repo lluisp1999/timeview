{
 "cells": [
  {
   "cell_type": "code",
   "execution_count": null,
   "metadata": {},
   "outputs": [],
   "source": [
    "# This script is used to create Figure 11 in the paper\n",
    "# It requires running Table_3.sh first to generate the results and having access to the Tacrolimus dataset\n",
    "\n",
    "\n",
    "import sys\n",
    "sys.path.append('../../')\n",
    "from experiments.analysis.analysis_utils import create_shap_plot, find_results\n",
    "from experiments.benchmark import create_benchmark_datasets_if_not_exist\n",
    "import numpy as np\n",
    "\n",
    "create_benchmark_datasets_if_not_exist(dataset_description_path=\"../dataset_descriptions\")\n",
    "\n",
    "# Change this to true only if you have access to the tacrolimus dataset\n",
    "access_to_tacrolimus = False\n",
    "\n",
    "if access_to_tacrolimus:\n",
    "    model_name = 'LGBM'\n",
    "    dataset = 'tacrolimus_visit_12'\n",
    "\n",
    "    results = find_results(dataset, model_name)\n",
    "    if len(results) == 0:\n",
    "        print(f\"No results found for {dataset} and {model_name}\")\n",
    "        print(\"Make sure you run your experiments from ../run_scripts\")\n",
    "        sys.exit()\n",
    "    elif len(results) > 1:\n",
    "        print(\"Multiple results found for the given dataset and model\")\n",
    "        print(\"We take the last one but it may produce unexpected results\")\n",
    "    timestamp = results[-1]\n",
    "\n",
    "    timesteps = np.arange(0, 12.5, 0.5)\n",
    "    cmap_scale = 0.4\n",
    "    dataset_title ='Tacrolimus'\n",
    "    fig = create_shap_plot(model_name, timestamp, dataset, dataset_title, timesteps, cmap_scale=cmap_scale, dataset_description_path=\"../dataset_descriptions\")\n",
    "    # fig.savefig(f'figures/Figure_13.pdf', dpi=300, bbox_inches='tight')"
   ]
  }
 ],
 "metadata": {
  "kernelspec": {
   "display_name": "tts",
   "language": "python",
   "name": "python3"
  },
  "language_info": {
   "codemirror_mode": {
    "name": "ipython",
    "version": 3
   },
   "file_extension": ".py",
   "mimetype": "text/x-python",
   "name": "python",
   "nbconvert_exporter": "python",
   "pygments_lexer": "ipython3",
   "version": "3.10.10"
  }
 },
 "nbformat": 4,
 "nbformat_minor": 2
}
