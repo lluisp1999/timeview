{
 "cells": [
  {
   "cell_type": "code",
   "execution_count": null,
   "metadata": {},
   "outputs": [],
   "source": [
    "# This script is used to create Figure 7 in the paper\n",
    "# It requires running TIMEVIEW_interface_only.sh or Table_3.sh first to generate the results\n",
    "\n",
    "%matplotlib inline\n",
    "import sys\n",
    "sys.path.append('../../')\n",
    "from timeview.visualize import expert_tts_plot, grid_tts_plot\n",
    "from experiments.datasets import load_dataset\n",
    "from experiments.benchmark import load_column_transformer, create_benchmark_datasets_if_not_exist\n",
    "from timeview.lit_module import load_model\n",
    "from experiments.baselines import YNormalizer\n",
    "from experiments.analysis.analysis_utils import find_results\n",
    "\n",
    "dataset_name = \"synthetic_tumor_wilkerson_1\"\n",
    "model_name = \"TTS\"\n",
    "\n",
    "create_benchmark_datasets_if_not_exist(dataset_description_path=\"../dataset_descriptions\")\n",
    "\n",
    "results = find_results(dataset_name, model_name)\n",
    "\n",
    "if len(results) == 0:\n",
    "    print(f\"No results found for {dataset_name} and {model_name}\")\n",
    "    print(\"Make sure you run your experiments from ../run_scripts\")\n",
    "elif len(results) > 1:\n",
    "    print(\"Multiple results found for the given dataset and model\")\n",
    "    print(\"We take the last one but it may produce unexpected results\")\n",
    "\n",
    "timestamp = results[-1]\n",
    "\n",
    "litmodel = load_model(timestamp, seed=661058651, benchmarks_folder=\"../benchmarks\")\n",
    "dataset = load_dataset(dataset_name, dataset_description_path=\"../dataset_descriptions\")\n",
    "column_transformer = load_column_transformer(timestamp, benchmarks_dir=\"../benchmarks\")\n",
    "y_normalizer = YNormalizer.load_from_benchmark(timestamp, model_name, benchmark_dir=\"../benchmarks\")\n",
    "\n",
    "expert_tts_plot(litmodel, dataset, (0.0,2.0), n_points=100, figsize=(3.5,3.5), column_transformer=column_transformer, y_normalizer=y_normalizer, display_feature_names=['age','weight','initial','dose'],default_values={'age': 52.4, 'weight': 89.2, 'initial_tumor_volume': 0.38, 'dosage': 0.08})"
   ]
  },
  {
   "cell_type": "code",
   "execution_count": null,
   "metadata": {},
   "outputs": [],
   "source": []
  }
 ],
 "metadata": {
  "kernelspec": {
   "display_name": "tts",
   "language": "python",
   "name": "python3"
  },
  "language_info": {
   "codemirror_mode": {
    "name": "ipython",
    "version": 3
   },
   "file_extension": ".py",
   "mimetype": "text/x-python",
   "name": "python",
   "nbconvert_exporter": "python",
   "pygments_lexer": "ipython3",
   "version": "3.10.10"
  }
 },
 "nbformat": 4,
 "nbformat_minor": 2
}
